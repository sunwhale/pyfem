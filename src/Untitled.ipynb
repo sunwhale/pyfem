{
 "cells": [
  {
   "cell_type": "code",
   "execution_count": 1,
   "id": "2989191d-5f68-4b1d-904a-aacb3495c870",
   "metadata": {},
   "outputs": [
    {
     "name": "stdout",
     "output_type": "stream",
     "text": [
      "\u001b[1m\u001b[35m<function NodeSet.read_gmsh_file at 0x000001F9FF4C9820> running time \u001b[0m\u001b[33m= 0.003471851348876953 s.\u001b[0m\n",
      "\u001b[1m\u001b[35m<function ElementSet.read_gmsh_file at 0x000001F9FF4C9CA0> running time \u001b[0m\u001b[33m= 0.0034720897674560547 s.\u001b[0m\n",
      "\u001b[1m\u001b[35m<function Assembly.init_element_data_list at 0x000001F9FF7B9D30> running time \u001b[0m\u001b[33m= 0.013124942779541016 s.\u001b[0m\n",
      "\u001b[1m\u001b[35m<function Assembly.create_global_stiffness at 0x000001F9FF7B9E50> running time \u001b[0m\u001b[33m= 0.0014874935150146484 s.\u001b[0m\n",
      "\u001b[34m<pyfem.materials.ElasticIsotropic.ElasticIsotropic object at 0x000001F9FF7B6C10>\u001b[0m\n",
      "  \u001b[32m|- material: \u001b[0m<pyfem.io.Material.Material object at 0x000001F9FF7B6EE0>\n",
      "  \u001b[32m|- dimension: \u001b[0m2\n",
      "  \u001b[32m|- option: \u001b[0mPlaneStrain\n",
      "  \u001b[32m|- ddsdde: \u001b[0m<class 'numpy.ndarray'> with shape = (3, 3) \n",
      "     [[120000.  40000.      0.]\n",
      "      [ 40000. 120000.      0.]\n",
      "      [     0.      0.  40000.]]\n",
      "  \u001b[32m|- state_variables: \u001b[0m<class 'numpy.ndarray'> with shape = (0,) \n",
      "     []\n",
      "\u001b[34m<pyfem.io.Material.Material object at 0x000001F9FF7B6EE0>\u001b[0m\n",
      "  |- name: Material-1\n",
      "  |- category: Elastic\n",
      "  |- type: Isotropic\n",
      "  |- data: [100000.0, 0.25]\n"
     ]
    }
   ],
   "source": [
    "from pyfem.io.Properties import Properties\n",
    "from pyfem.assembly.Assembly import Assembly\n",
    "props = Properties()\n",
    "props.read_file(r'F:\\Github\\pyfem\\examples\\rectangle\\rectangle.toml')\n",
    "assembly = Assembly(props)\n",
    "\n",
    "assembly.element_data_list[0].material_data.show()\n",
    "\n",
    "props.materials[0].show()"
   ]
  },
  {
   "cell_type": "code",
   "execution_count": null,
   "id": "94634021-5def-42b5-b862-4915f90c9f09",
   "metadata": {},
   "outputs": [],
   "source": []
  }
 ],
 "metadata": {
  "kernelspec": {
   "display_name": "Python 3 (ipykernel)",
   "language": "python",
   "name": "python3"
  },
  "language_info": {
   "codemirror_mode": {
    "name": "ipython",
    "version": 3
   },
   "file_extension": ".py",
   "mimetype": "text/x-python",
   "name": "python",
   "nbconvert_exporter": "python",
   "pygments_lexer": "ipython3",
   "version": "3.9.16"
  }
 },
 "nbformat": 4,
 "nbformat_minor": 5
}
